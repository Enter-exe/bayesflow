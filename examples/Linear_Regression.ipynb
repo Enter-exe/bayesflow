{
 "cells": [
  {
   "cell_type": "markdown",
   "metadata": {
    "id": "IXtuqy_w58fx"
   },
   "source": [
    "In this notebook, we will show how to fit a linear regression model in bayesflow, which is amortized over the number of observations. For this notebook to run, you need to have the latest bayesflow dev version installed,\n",
    "for example via:"
   ]
  },
  {
   "cell_type": "code",
   "execution_count": null,
   "metadata": {
    "id": "JMj_DpOSvFJw"
   },
   "outputs": [],
   "source": [
    "!pip install git+https://github.com/bayesflow-org/bayesflow.git@dev"
   ]
  },
  {
   "cell_type": "markdown",
   "metadata": {
    "id": "5lhP6Sow6Wx_"
   },
   "source": [
    "We load a bunch of libraries and choose the keras backend, we want to use.\n",
    "Here I use JAX but you can freely change that and the notebook will work all the same."
   ]
  },
  {
   "cell_type": "code",
   "execution_count": 41,
   "metadata": {
    "id": "G2PB6Rr9s71L"
   },
   "outputs": [],
   "source": [
    "import matplotlib.pyplot as plt\n",
    "import numpy as np\n",
    "import seaborn as sns\n",
    "\n",
    "# ensure the backend is set\n",
    "import os\n",
    "if \"KERAS_BACKEND\" not in os.environ:\n",
    "    # set this to \"torch\", \"tensorflow\", or \"jax\"\n",
    "    os.environ[\"KERAS_BACKEND\"] = \"jax\"\n",
    "\n",
    "import keras\n",
    "\n",
    "# for BayesFlow devs: this ensures that the latest dev version can be found\n",
    "import sys\n",
    "sys.path.append('../')\n",
    "\n",
    "import bayesflow as bf"
   ]
  },
  {
   "cell_type": "markdown",
   "metadata": {
    "id": "JawF4uI96oZU"
   },
   "source": [
    "First, we define our simulator, which in this case consists of a prior and likelihood, as well as of a \"meta\" simulator that is responsible for simulating\n",
    "the number of simulations per dataset:"
   ]
  },
  {
   "cell_type": "code",
   "execution_count": 42,
   "metadata": {
    "id": "eGApvqXas71N"
   },
   "outputs": [],
   "source": [
    "# TODO: do we have to require \"batch_size\" to the function passed to meta_fn?\n",
    "def meta(batch_size):\n",
    "    # N: number of observation in a dataset\n",
    "    N = np.random.randint(5, 15)\n",
    "    return dict(N=N)\n",
    "\n",
    "def prior():\n",
    "    # beta: regression coefficients (intercept, slope)\n",
    "    beta = np.random.normal([2, 0], [3, 1])\n",
    "    # sigma: residual standard deviation\n",
    "    sigma = np.random.gamma(1, 1)\n",
    "    return dict(beta=beta, sigma=sigma)\n",
    "\n",
    "def likelihood(beta, sigma, N):\n",
    "    # x: predictor variable\n",
    "    x = np.random.normal(0, 1, size=N)\n",
    "    # y: response variable\n",
    "    y = np.random.normal(beta[0] + beta[1] * x, sigma, size=N)\n",
    "    return dict(y=y, x=x)"
   ]
  },
  {
   "cell_type": "markdown",
   "metadata": {
    "id": "8GiRaXym69ca"
   },
   "source": [
    "We can combine these three functions into a bayesflow simulator via:"
   ]
  },
  {
   "cell_type": "code",
   "execution_count": 43,
   "metadata": {
    "id": "tyExGLFxs71O"
   },
   "outputs": [],
   "source": [
    "simulator = bf.simulators.make_simulator([prior, likelihood], meta_fn=meta)"
   ]
  },
  {
   "cell_type": "markdown",
   "metadata": {
    "id": "1zufm-L-7DlY"
   },
   "source": [
    "We passed the `meta` simulator separately to the `meta_fn` argument to make sure\n",
    "that the number of observations `N` constant within each *batch* of simulated datasets. This is required since, within each batch, the generated datasets need to have the same shape for them to be easily transformable to tensors for deep learning.\n",
    "\n",
    "Let's see how sampling from the simulator works by sampling a batch of 2 datasets:"
   ]
  },
  {
   "cell_type": "code",
   "execution_count": 44,
   "metadata": {
    "colab": {
     "base_uri": "https://localhost:8080/"
    },
    "id": "ClkOcXdss71O",
    "outputId": "5be63dcf-c769-419a-ec1a-476396892b26"
   },
   "outputs": [
    {
     "name": "stdout",
     "output_type": "stream",
     "text": [
      "9\n",
      "[[-0.13901186 -1.30729615]\n",
      " [-1.08418129 -1.36632534]]\n",
      "[[ 0.99600341  3.00616988 -0.24793134 -1.89977202  3.08574053  0.06435527  1.11641182 -0.87962351 -1.84358929]\n",
      " [-1.34731369  0.40159707 -0.70214646 -0.6471416  -2.8396715  -0.84610765  0.92637348  0.78855675 -0.84000981]]\n",
      "9\n",
      "[[-0.13901186 -1.30729615]\n",
      " [-1.08418129 -1.36632534]]\n",
      "[[ 0.99600341  3.00616988 -0.24793134 -1.89977202  3.08574053  0.06435527  1.11641182 -0.87962351 -1.84358929]\n",
      " [-1.34731369  0.40159707 -0.70214646 -0.6471416  -2.8396715  -0.84610765  0.92637348  0.78855675 -0.84000981]]\n"
     ]
    }
   ],
   "source": [
    "# generate a batch of two training samples\n",
    "sample_data = simulator.sample(2)\n",
    "print(sample_data[\"N\"])\n",
    "print(sample_data[\"beta\"])\n",
    "print(sample_data[\"y\"])"
   ]
  },
  {
   "cell_type": "markdown",
   "metadata": {
    "id": "8wiGFZnE8VOe"
   },
   "source": [
    "To ensure that the training data generated by the simulator can be used for deep learning, we have do a bunch of transformations via `(data_)adapter` objects. Here, I build my own `adapter` from scratch but later on bayesflow will also provide default adapters that will already automate most of the commonly required steps."
   ]
  },
  {
   "cell_type": "code",
   "execution_count": 51,
   "metadata": {
    "colab": {
     "base_uri": "https://localhost:8080/"
    },
    "id": "GfxUy8w7s71Q",
    "outputId": "8ba859df-1461-48fc-84d3-1ecaa0529209"
   },
   "outputs": [
    {
     "data": {
      "text/plain": [
       "Adapter([ToArray -> Broadcast -> ConvertDType -> AsSet -> Constrain -> Standardize(exclude=['N']) -> Concatenate(['beta', 'sigma'] -> 'inference_variables') -> Concatenate(['x', 'y'] -> 'summary_variables') -> Rename('N' -> 'inference_conditions')])"
      ]
     },
     "execution_count": null,
     "metadata": {},
     "output_type": "execute_result"
    }
   ],
   "source": [
    "adapter = bf.adapters.Adapter()\n",
    "adapter.to_array()\n",
    "adapter.broadcast(\"N\", to = \"y\")\n",
    "adapter.convert_dtype(from_dtype=\"float64\", to_dtype=\"float32\")\n",
    "adapter.as_set([\"x\", \"y\"])\n",
    "adapter.constrain(\"sigma\", lower=0)\n",
    "adapter.standardize(exclude=[\"N\"])\n",
    "adapter.concatenate([\"beta\", \"sigma\"], into=\"inference_variables\")\n",
    "adapter.concatenate([\"x\", \"y\"], into=\"summary_variables\")\n",
    "adapter.rename(\"N\", \"inference_conditions\")"
   ]
  },
  {
   "cell_type": "markdown",
   "metadata": {
    "id": "PmSWcEVB86pr"
   },
   "source": [
    "I want to elaborate on a few adapter steps:\n",
    "\n",
    "The `.broadcast(\"N\", to = \"y\")` transform ensures that `N` has the same shape as `y` in all but the last dimension. This ensures that `N` will also have a `batch_size` dimension even though it was actually just a single value, constant over all datasets within a batch.\n",
    "\n",
    "The `.as_set([\"x\", \"y\"])` transform indicates that both `x` and `y` are treated as sets. That is, their values will be treated as *exchangable* such that they will imply the same inference regardless of the values' order. This makes sense, since in linear regression, we can index the observations in arbitrary order and always get the same regression line.\n",
    "\n",
    "The `.constrain(\"sigma\", lower=0)` transform ensures that the residual standard deviation parameter `sigma` will always be positive. Without this constrain, the neural networks may attempt to predict negative `sigma` which of course would not make much sense.\n",
    "\n",
    "Standardidazation via `.standardize()` is important for neural networks to learn\n",
    "reliably without, for example, exploding or vanishing gradients during training. However, we need to exclude the variable `N` from standardization, via `standardize(exclude=[\"N\"])`. This is because `N` is a constant within each batch of training data and can hence not be standardized. In the future, bayesflow will automatically detect this case so that we don't have to manually exclude such constant variables from standardization.\n",
    "\n",
    "Let's check the shape of our processed data to be passed to the neural networks:"
   ]
  },
  {
   "cell_type": "code",
   "execution_count": 52,
   "metadata": {
    "colab": {
     "base_uri": "https://localhost:8080/"
    },
    "id": "JkE2tfL3-wLX",
    "outputId": "df9381ec-6d92-48cc-a83a-3cd9b9493a9c"
   },
   "outputs": [
    {
     "name": "stdout",
     "output_type": "stream",
     "text": [
      "(2, 9, 2)\n",
      "(2, 1)\n",
      "(2, 3)\n",
      "(2, 9, 2)\n",
      "(2, 1)\n",
      "(2, 3)\n"
     ]
    }
   ],
   "source": [
    "processed_data = adapter(sample_data)\n",
    "print(processed_data[\"summary_variables\"].shape)\n",
    "print(processed_data[\"inference_conditions\"].shape)\n",
    "print(processed_data[\"inference_variables\"].shape)"
   ]
  },
  {
   "cell_type": "markdown",
   "metadata": {
    "id": "PPSQwyE6-pMr"
   },
   "source": [
    "Those shapes are as we expect them to be. The first dimenstion is always the batch size which was 2 for our example data. All variables adhere to this rule since the first dimension is indeed 2.\n",
    "\n",
    "For `summary_variables`, the second dimension is equal to `N`, which happend to be sampled as `6` for these example data. It's third dimension is `2`, since we have combined `x` and `y` into summary variables, each of which are vectors of length `N` within each simulated dataset.\n",
    "\n",
    "For `inference_conditions`, the second dimension is just `1` because we have passed only the scalar variable `N` there.\n",
    "\n",
    "For `inference_variables`, the second dimension is `3` because it consists of\n",
    "`beta` (a vector of length `2`) and `sigma` (a scalar)."
   ]
  },
  {
   "cell_type": "markdown",
   "metadata": {
    "id": "PD2LxYmpAZzC"
   },
   "source": [
    "We will now define our inference and summary networks. As inference network, we will use a flow matching architecture and as summary network, we will use a deep set. The latter choice is important to reflect that fact that `x` and `y` as supposed to be sets and the deep set architecture ensures they are indeed correctly treated as such."
   ]
  },
  {
   "cell_type": "code",
   "execution_count": 53,
   "metadata": {
    "id": "ftYWYFa-s71Q"
   },
   "outputs": [],
   "source": [
    "inference_network = bf.networks.FlowMatching()\n",
    "summary_network = bf.networks.DeepSet()"
   ]
  },
  {
   "cell_type": "markdown",
   "metadata": {
    "id": "yp8K4OxQA7A8"
   },
   "source": [
    "We can now define our posterior `approximator` consisting of the two networks and our data adapter from above."
   ]
  },
  {
   "cell_type": "code",
   "execution_count": 38,
   "metadata": {
    "id": "Zh3fu6VHs71Q"
   },
   "outputs": [],
   "source": [
    "approximator = bf.ContinuousApproximator(\n",
    "   inference_network=inference_network,\n",
    "   summary_network=summary_network,\n",
    "   adapter=adapter,\n",
    ")"
   ]
  },
  {
   "cell_type": "markdown",
   "metadata": {
    "id": "fd1v3oH3BJGC"
   },
   "source": [
    "We define some training hyperparameters such as the learning rate and optimization algorithm to apply before compile the approximator with these choices."
   ]
  },
  {
   "cell_type": "code",
   "execution_count": 39,
   "metadata": {
    "id": "dsr9T9Yqs71R"
   },
   "outputs": [],
   "source": [
    "learning_rate = 1e-4\n",
    "optimizer = keras.optimizers.Adam(learning_rate=learning_rate)\n",
    "approximator.compile(optimizer=optimizer)"
   ]
  },
  {
   "cell_type": "markdown",
   "metadata": {
    "id": "NF1XmDmDBRyT"
   },
   "source": [
    "Now, we are ready to train our approximator to learn posterior distributions for linear regression models. To achieve this, we will all `approximator.fit` passing the `simulator` and a bunch of hyperparameters that control how long we want to train:"
   ]
  },
  {
   "cell_type": "code",
   "execution_count": null,
   "metadata": {
    "colab": {
     "base_uri": "https://localhost:8080/"
    },
    "id": "Uerg3xh-s71S",
    "outputId": "f4fd1e4d-2a42-4ca2-d932-b6c77a2ebc73"
   },
   "outputs": [],
   "source": [
    "history = approximator.fit(\n",
    "    epochs=10,\n",
    "    num_batches=512,\n",
    "    batch_size=64,\n",
    "    simulator=simulator,\n",
    ")"
   ]
  },
  {
   "cell_type": "markdown",
   "metadata": {
    "id": "_rBJwdhVBydC"
   },
   "source": [
    "The first few steps of training may take a little longer due to network compilation overhead. The total training time for this example is around 2 minutes on a modern laptop.\n",
    "\n",
    "Let's check out the resulting inference. Say we want to obtain 2000 posterior samples from our approximated posterior of a simulated dataset where we know the ground truth values."
   ]
  },
  {
   "cell_type": "code",
   "execution_count": 34,
   "metadata": {
    "id": "yOCEEWMjs71S"
   },
   "outputs": [],
   "source": [
    "# Set the number of posterior draws you want to get\n",
    "num_samples = 2000\n",
    "\n",
    "# Obtain samples from amortized posterior\n",
    "N = 10\n",
    "beta = [3, 1]\n",
    "sigma = 0.5\n",
    "lik = likelihood(beta, sigma, N)\n",
    "conditions = {\"y\": [lik[\"y\"]], \"x\": [lik[\"x\"]], \"N\": [N]}\n",
    "\n",
    "pdraws = approximator.sample(conditions=conditions, num_samples=num_samples)"
   ]
  },
  {
   "cell_type": "code",
   "execution_count": 35,
   "metadata": {
    "colab": {
     "base_uri": "https://localhost:8080/"
    },
    "id": "_d_9CFBSGj08",
    "outputId": "d68b2fe9-bb69-4b34-82ac-729898fea083"
   },
   "outputs": [
    {
     "name": "stdout",
     "output_type": "stream",
     "text": [
      "(1, 2000, 2)\n",
      "4.94709747727029e-05\n",
      "(1, 2000, 2)\n",
      "4.94709747727029e-05\n"
     ]
    }
   ],
   "source": [
    "print(pdraws[\"beta\"].shape)\n",
    "print(pdraws[\"sigma\"].min())"
   ]
  },
  {
   "cell_type": "markdown",
   "metadata": {
    "id": "nxCV-wdnDa1N"
   },
   "source": [
    "Initial sanity checks of the posterior samples look good. `pdraws[\"beta\"]` has shape `(1, 2000, 2)` which makes sense since we asked for inference of a single data set (first dimension is 1), for which we wanted to generated 2000 posterior samples (second dimension is 2000). The third dimension is 2, since the `beta` variable was defined as a vector of length 2 (intercept and slope).\n",
    "What is more, the minimun posterior sample of `sigma` is positive indicating that our positivity enforcing constraing in the data adapter has indeed worked.\n",
    "\n",
    "Let's plot the joint posterior distribution of `beta[1]` (the slope) and `sigma`, the residual standard deviation. Based on how we generated this particular dataset, we would expect `beta[1]` to vary around its true value of `1` and `sigma` to vary around its true value of `0.5`. Of course, if this was real data, we wouldn't know the ground truth values, so had no reference to check against. Hence, it is good to first perform some inference on simulated data as a diagnostic for whether the approximator has learned to approximate the true posteriors well enough."
   ]
  },
  {
   "cell_type": "code",
   "execution_count": 36,
   "metadata": {
    "colab": {
     "base_uri": "https://localhost:8080/",
     "height": 335
    },
    "id": "wJsnQSS9s71T",
    "outputId": "82f753d6-206c-44c8-f315-583b2c47630d"
   },
   "outputs": [
    {
     "data": {
      "image/png": "[encoded data removed]",
      "text/plain": [
       "<Figure size 600x600 with 1 Axes>"
      ]
     },
     "metadata": {},
     "output_type": "display_data"
    }
   ],
   "source": [
    "# Prepare figure\n",
    "f, axes = plt.subplots(1, figsize=(6, 6))\n",
    "\n",
    "# Plot samples\n",
    "axes.scatter(pdraws[\"beta\"][0, :, 1], pdraws[\"sigma\"][0, :], color=\"#153c7a\", alpha=0.75, s=0.5)\n",
    "sns.despine(ax=axes)\n",
    "axes.set_title(\"Posterior draws\")\n",
    "axes.grid(alpha=0.3)\n",
    "axes.set_aspect(\"equal\", adjustable=\"box\")\n",
    "axes.set_xlim([-1, 3])\n",
    "axes.set_ylim([0, 2])\n",
    "axes.set_xlabel(\"beta[1]\")\n",
    "axes.set_ylabel(\"sigma\")\n",
    "plt.show()"
   ]
  },
  {
   "cell_type": "markdown",
   "metadata": {
    "id": "nv6ipPY6EyBv"
   },
   "source": [
    "The plot shows has that indeed, things look as we expected. Likely, for fully accurate posterior inference, we would have to train the approximator a little longer, but that's okay. After all, we can effort a little more training time since afterwards, inference on any number of new (real or simulated) datasets is\n",
    "very fast due to amortization."
   ]
  }
 ],
 "metadata": {
  "accelerator": "TPU",
  "colab": {
   "gpuType": "V28",
   "provenance": []
  },
  "kernelspec": {
   "display_name": "Python 3 (ipykernel)",
   "language": "python",
   "name": "python3"
  },
  "language_info": {
   "codemirror_mode": {
    "name": "ipython",
    "version": 3
   },
   "file_extension": ".py",
   "mimetype": "text/x-python",
   "name": "python",
   "nbconvert_exporter": "python",
   "pygments_lexer": "ipython3",
   "version": "3.11.10"
  }
 },
 "nbformat": 4,
 "nbformat_minor": 4
}

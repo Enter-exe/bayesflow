{
 "cells": [
  {
   "cell_type": "markdown",
   "id": "01fcb38f",
   "metadata": {},
   "source": [
    "# Posterior Estimation for SIR-like Models\n",
    "\n",
    "_Author: Stefan T. Radev_"
   ]
  },
  {
   "cell_type": "code",
   "execution_count": 9,
   "id": "presidential-density",
   "metadata": {},
   "outputs": [],
   "source": [
    "import datetime\n",
    "\n",
    "import matplotlib.pyplot as plt\n",
    "import numpy as np\n",
    "import pandas as pd\n",
    "\n",
    "# ensure the backend is set\n",
    "import os\n",
    "if \"KERAS_BACKEND\" not in os.environ:\n",
    "    # set this to \"torch\", \"tensorflow\", or \"jax\"\n",
    "    os.environ[\"KERAS_BACKEND\"] = \"tensorflow\"\n",
    "\n",
    "import keras\n",
    "\n",
    "# For BayesFlow devs: this ensures that the latest dev version can be found\n",
    "import sys\n",
    "sys.path.append('../')\n",
    "\n",
    "import bayesflow as bf"
   ]
  },
  {
   "cell_type": "markdown",
   "id": "polished-warning",
   "metadata": {},
   "source": [
    "## Introduction <a class=\"anchor\" id=\"introduction\"></a>\n",
    "\n",
    "In this tutorial, we will illustrate how to perform posterior inference on simple, stationary SIR-like models (complex models will be tackled in a further notebook). SIR-like models comprise suitable illustrative examples, since they generate time-series and their outputs represent the results of solving a system of ordinary differential equations (ODEs).\n",
    "\n",
    "The details for tackling stochastic epidemiological models with neural networks are described in our corresponding paper, which you can consult for a more formal exposition and a more comprehensive treatment of neural architectures:\n",
    "\n",
    "<em>OutbreakFlow: Model-based Bayesian inference of disease outbreak dynamics with invertible neural networks and its application to the COVID-19 pandemics in Germany</em> https://journals.plos.org/ploscompbiol/article?id=10.1371/journal.pcbi.1009472"
   ]
  },
  {
   "cell_type": "markdown",
   "id": "corrected-little",
   "metadata": {},
   "source": [
    "## Defining the Simulator <a class=\"anchor\" id=\"defining_the_generative\"></a>"
   ]
  },
  {
   "cell_type": "code",
   "execution_count": 10,
   "id": "ed081448",
   "metadata": {},
   "outputs": [],
   "source": [
    "RNG = np.random.default_rng(2024)"
   ]
  },
  {
   "cell_type": "markdown",
   "id": "appropriate-chester",
   "metadata": {},
   "source": [
    "As described in our [very first notebook](Quickstart_Amortized_Posterior_Estimation.ipynb), a generative model consists of a prior (encoding suitable parameter ranges) and a simulator (generating data given simulations). Our underlying model distinguishes between susceptible, $S$, infected, $I$, and recovered, $R$, individuals with infection and recovery occurring at a constant transmission rate $\\lambda$ and constant recovery rate $\\mu$, respectively. The model dynamics are governed by the following system of ODEs:\n",
    "\n",
    "$$\n",
    "\\begin{align}\n",
    "    \\frac{dS}{dt} &= -\\lambda\\,\\left(\\frac{S\\,I}{N}\\right) \\\\\n",
    "    \\frac{dI}{dt} &= \\lambda\\,\\left(\\frac{S\\,I}{N}\\right) - \\mu\\,I \\\\\n",
    "    \\frac{dR}{dt} &= \\mu\\,I,\n",
    "\\end{align}\n",
    "$$\n",
    "\n",
    "with $N = S + I + R$ denoting the total population size. For the purpose of forward inference (simulation), we will use a time step of $dt = 1$, corresponding to daily case reports. In addition to the ODE parameters $\\lambda$ and $\\mu$, we consider a reporting delay parameter $L$ and a dispersion parameter $\\psi$, which affect the number of reported infected individuals via a negative binomial disttribution (https://en.wikipedia.org/wiki/Negative_binomial_distribution):\n",
    "\n",
    "$$\n",
    "\\begin{equation}\n",
    "    I_t^{(obs)} \\sim \\textrm{NegBinomial}(I^{(new)}_{t-L}, \\psi),\n",
    "\\end{equation}\n",
    "$$\n",
    "\n",
    "In this way, we connect the latent disease model to an observation model, which renders the relationship between parameters and data a stochastic one. Note, that the observation model induces a further parameter $\\psi$, responsible for the dispersion of the noise.\n",
    "Finally, we will also treat the number of initially infected individuals, $I_0$ as an unknown parameter (having its own prior distribution)."
   ]
  },
  {
   "cell_type": "markdown",
   "id": "killing-feelings",
   "metadata": {},
   "source": [
    "### Prior <a class=\"anchor\" id=\"prior\"></a>"
   ]
  },
  {
   "cell_type": "markdown",
   "id": "ideal-median",
   "metadata": {},
   "source": [
    "We will place the following prior distributions over the five model parameters, summarized in the table below:\n",
    "\n",
    "$$\n",
    "\\begin{aligned}\n",
    "& \\text {Table 1. Description of model parameters and corresponding prior distributions}\\\\\n",
    "&\\begin{array}{lcl}\n",
    "\\hline \\hline \\text { Description} & \\text { Symbol } & \\text { Prior Distribution } \\\\\n",
    "\\hline \\hline \\text{Initial transmission rate} & \\text{$\\lambda$} & \\text{$\\textrm{LogNormal}(\\log(0.4), 0.5)$} \\\\\n",
    "\\text{Recovery rate of infected individuals} & \\text{$\\mu$} & \\text{$\\textrm{LogNormal}(\\log(1/8), 0.2)$} \\\\\n",
    "\\text{Reporting delay (lag)} & \\text{$L$} & \\text{$\\textrm{LogNormal}(\\log(8), 0.2)$} \\\\\n",
    "\\text{Number of initially infected individuals} & \\text{$I_0$} & \\text{$\\textrm{Gamma}(2, 20)$} \\\\\n",
    "\\text{Dispersion of the negative binomial distribution} & \\text{$\\psi$} & \\text{$\\textrm{Exponential}(5)$} \\\\\n",
    "\\hline\n",
    "\\end{array}\n",
    "\\end{aligned}\n",
    "$$\n",
    "\n",
    "How did we come up with these priors? In this case, we rely on the domain expertise and previous research  (https://www.science.org/doi/10.1126/science.abb9789). In addition, the new parameter $\\psi$ follows an exponential distribution, which restricts it to positive numbers. Below is the implementation of these priors:"
   ]
  },
  {
   "cell_type": "code",
   "execution_count": 11,
   "id": "supported-builder",
   "metadata": {},
   "outputs": [],
   "source": [
    "def prior():\n",
    "    \"\"\"Generates a random draw from the joint prior.\"\"\"\n",
    "\n",
    "    lambd = RNG.lognormal(mean=np.log(0.4), sigma=0.5)\n",
    "    mu = RNG.lognormal(mean=np.log(1 / 8), sigma=0.2)\n",
    "    D = RNG.lognormal(mean=np.log(8), sigma=0.2)\n",
    "    I0 = RNG.gamma(shape=2, scale=20)\n",
    "    psi = RNG.exponential(5)\n",
    "    return {\"lambd\": lambd, \"mu\": mu, \"D\": D, \"I0\": I0, \"psi\": psi}"
   ]
  },
  {
   "cell_type": "markdown",
   "id": "sized-tamil",
   "metadata": {},
   "source": [
    "### Observation Model (Implicit Likelihood Function) <a class=\"anchor\" id=\"simulator__implicit_likelihood\"></a>"
   ]
  },
  {
   "cell_type": "code",
   "execution_count": 12,
   "id": "fourth-reconstruction",
   "metadata": {
    "code_folding": [
     2,
     14
    ]
   },
   "outputs": [],
   "source": [
    "from scipy.stats import nbinom\n",
    "\n",
    "\n",
    "def convert_params(mu, phi):\n",
    "    \"\"\"Helper function to convert mean/dispersion parameterization of a negative binomial to N and p,\n",
    "    as expected by numpy's negative_binomial.\n",
    "\n",
    "    See https://en.wikipedia.org/wiki/Negative_binomial_distribution#Alternative_formulations\n",
    "    \"\"\"\n",
    "\n",
    "    r = phi\n",
    "    var = mu + 1 / r * mu**2\n",
    "    p = (var - mu) / var\n",
    "    return r, 1 - p\n",
    "\n",
    "\n",
    "def stationary_SIR(lambd, mu, D, I0, psi, N=83e6, T=14, eps=1e-5):\n",
    "    \"\"\"Performs a forward simulation from the stationary SIR model given a random draw from the prior.\"\"\"\n",
    "\n",
    "    # Extract parameters and round I0 and D\n",
    "    I0 = np.ceil(I0)\n",
    "    D = int(round(D))\n",
    "\n",
    "    # Initial conditions\n",
    "    S, I, R = [N - I0], [I0], [0]\n",
    "\n",
    "    # Reported new cases\n",
    "    C = [I0]\n",
    "\n",
    "    # Simulate T-1 timesteps\n",
    "    for t in range(1, T + D):\n",
    "        # Calculate new cases\n",
    "        I_new = lambd * (I[-1] * S[-1] / N)\n",
    "\n",
    "        # SIR equations\n",
    "        S_t = S[-1] - I_new\n",
    "        I_t = np.clip(I[-1] + I_new - mu * I[-1], 0.0, N)\n",
    "        R_t = np.clip(R[-1] + mu * I[-1], 0.0, N)\n",
    "\n",
    "        # Track\n",
    "        S.append(S_t)\n",
    "        I.append(I_t)\n",
    "        R.append(R_t)\n",
    "        C.append(I_new)\n",
    "\n",
    "    reparam = convert_params(np.clip(np.array(C[D:]), 0, N) + eps, psi)\n",
    "    C_obs = RNG.negative_binomial(reparam[0], reparam[1])\n",
    "    return dict(cases=C_obs)"
   ]
  },
  {
   "cell_type": "markdown",
   "id": "characteristic-reasoning",
   "metadata": {},
   "source": [
    "As you can see, in addition to the parameters, our simulator requires two further arguments: the total population size $N$ and the time horizon $T$. These are quantities over which we can amortize (i.e., context variables), but for this example, we will just use the population of Germany and the first two weeks of the pandemics (i.e., $T=14$), in the same vein as https://www.science.org/doi/10.1126/science.abb9789."
   ]
  },
  {
   "cell_type": "markdown",
   "id": "rotary-queen",
   "metadata": {},
   "source": [
    "### Loading Real Data <a class=\"anchor\" id=\"loading_real_data\"></a>\n",
    "\n",
    "We will define a simple helper function to load the actually reported cases in 2020 for the first two weeks of the Covid-19 pandemic in Germany."
   ]
  },
  {
   "cell_type": "code",
   "execution_count": 13,
   "id": "adolescent-employee",
   "metadata": {},
   "outputs": [],
   "source": [
    "def load_data():\n",
    "    \"\"\"Helper function to load cumulative cases and transform them to new cases.\"\"\"\n",
    "\n",
    "    confirmed_cases_url = \"https://raw.githubusercontent.com/CSSEGISandData/COVID-19/master/csse_covid_19_data/csse_covid_19_time_series/time_series_covid19_confirmed_global.csv\"\n",
    "    confirmed_cases = pd.read_csv(confirmed_cases_url, sep=\",\")\n",
    "\n",
    "    date_data_begin = datetime.date(2020, 3, 1)\n",
    "    date_data_end = datetime.date(2020, 3, 15)\n",
    "    format_date = lambda date_py: f\"{date_py.month}/{date_py.day}/{str(date_py.year)[2:4]}\"\n",
    "    date_formatted_begin = format_date(date_data_begin)\n",
    "    date_formatted_end = format_date(date_data_end)\n",
    "\n",
    "    cases_obs = np.array(\n",
    "        confirmed_cases.loc[confirmed_cases[\"Country/Region\"] == \"Germany\", date_formatted_begin:date_formatted_end]\n",
    "    )[0]\n",
    "    new_cases_obs = np.diff(cases_obs)\n",
    "    return new_cases_obs"
   ]
  },
  {
   "cell_type": "markdown",
   "id": "legal-tokyo",
   "metadata": {},
   "source": [
    "### Stitiching Things Together <a class=\"anchor\" id=\"generative_model\"></a>\n",
    "We can combine the prior $p(\\theta)$ and the observation model $p(x_{1:T}\\mid\\theta)$ into a joint model $p(\\theta, x_{1:T}) = p(\\theta) \\; p(x_{1:T}\\mid\\theta)$ using the `make_simulator` builder.\n",
    "The resulting object can now generate *batches* of simulations."
   ]
  },
  {
   "cell_type": "code",
   "execution_count": 14,
   "id": "adequate-fleece",
   "metadata": {},
   "outputs": [],
   "source": [
    "simulator = bf.make_simulator([prior, stationary_SIR])"
   ]
  },
  {
   "cell_type": "code",
   "execution_count": 15,
   "id": "457d5692",
   "metadata": {},
   "outputs": [
    {
     "name": "stdout",
     "output_type": "stream",
     "text": [
      "(2, 1)\n",
      "(2, 1)\n",
      "(2, 14)\n",
      "CPU times: user 929 μs, sys: 239 μs, total: 1.17 ms\n",
      "Wall time: 1.07 ms\n"
     ]
    }
   ],
   "source": [
    "%%time\n",
    "test_sims = simulator.sample(batch_size=2)\n",
    "print(test_sims[\"lambd\"].shape)\n",
    "print(test_sims[\"D\"].shape)\n",
    "print(test_sims[\"cases\"].shape)"
   ]
  },
  {
   "cell_type": "markdown",
   "id": "chemical-cleaner",
   "metadata": {},
   "source": [
    "## Prior Checking <a class=\"anchor\" id=\"prior_checking\"></a>\n",
    "\n",
    "Any principled Bayesian workflow requires some prior predictive or prior pushforward checks to ensure that the prior specification is consistent with domain expertise (see https://betanalpha.github.io/assets/case_studies/principled_bayesian_workflow.html). The BayesFlow library provides some rudimentary visual tools for performing prior checking. For instance, we can visually inspect the joint prior in the form of bivariate plots. We can focus on particular parameter combinations, such as $\\lambda$, $\\mu$, and $D$:"
   ]
  },
  {
   "cell_type": "code",
   "execution_count": 16,
   "id": "97c7ebe7",
   "metadata": {},
   "outputs": [
    {
     "data": {
      "image/png": "[encoded data removed]",
      "text/plain": [
       "<Figure size 750x750 with 15 Axes>"
      ]
     },
     "metadata": {},
     "output_type": "display_data"
    }
   ],
   "source": [
    "prior_samples = simulator.simulators[0].sample(1000)\n",
    "\n",
    "grid = bf.diagnostics.plots.pairs_samples(\n",
    "    prior_samples, variable_keys=[\"lambd\", \"mu\", \"D\"]\n",
    ")"
   ]
  },
  {
   "cell_type": "markdown",
   "id": "6113f7e8",
   "metadata": {},
   "source": [
    "## Defining the Adapter\n",
    "\n",
    "We need to ensure that the outputs of the forward model are suitable for processing with neural networks. Currently, they are not, since our data $x_{1:T}$ consists of large integer (count) values. However, neural networks like scaled data. Furthermore, our parameters $\\theta$ exhibit widely different scales due to their prior specification and role in the simulator. Finally, BayesFlow needs to know which variables are to be inferred and which ones are to be processed by the summary network before being passed to the inference network. We handle all of these steps using an `Adapter`.\n",
    "\n",
    "Since all of our parameters and observables can only take on positive values, we will apply a log plus one transform to all quantities. Note, that `BayesFlow` expects the following keys to be present in the final outputs of your configured simulations:\n",
    "- `inference_variables`: These are the variables we are inferring.\n",
    "- `summary_variables`: These are the variables that are compressed throgh a summary network and used for inferring the inference variables.\n",
    "\n",
    "Thus, what our approximators are learning is $p(\\text{inference variables} \\mid t(\\text{summary variables}))$, where $t$ is the summary network."
   ]
  },
  {
   "cell_type": "code",
   "execution_count": 17,
   "id": "rental-burner",
   "metadata": {},
   "outputs": [],
   "source": [
    "adapter = (\n",
    "    bf.adapters.Adapter()\n",
    "    .convert_dtype(\"float64\", \"float32\")\n",
    "    .as_time_series(\"cases\")\n",
    "    .concatenate([\"lambd\", \"mu\", \"D\", \"I0\", \"psi\"], into=\"inference_variables\")\n",
    "    .rename(\"cases\", \"summary_variables\")\n",
    "    # since all our variables are non-negative (zero or larger)\n",
    "    # this .apply call ensures that the variables are transformed\n",
    "    # to the unconstrained real space and can be back-transformed under the hood\n",
    "    .apply(forward=lambda x: np.log1p(x), inverse=lambda x: np.expm1(x))\n",
    ")"
   ]
  },
  {
   "cell_type": "code",
   "execution_count": 18,
   "id": "15fc0d38",
   "metadata": {},
   "outputs": [
    {
     "name": "stdout",
     "output_type": "stream",
     "text": [
      "(2, 14, 1)\n",
      "(2, 5)\n"
     ]
    }
   ],
   "source": [
    "# Let's check out the new shapes\n",
    "adapted_sims = adapter(simulator.sample(2))\n",
    "print(adapted_sims[\"summary_variables\"].shape)\n",
    "print(adapted_sims[\"inference_variables\"].shape)"
   ]
  },
  {
   "cell_type": "markdown",
   "id": "removed-discrimination",
   "metadata": {},
   "source": [
    "## Defining the Neural Approximator <a class=\"anchor\" id=\"defining_the_neural\"></a>\n",
    "\n",
    "We can now proceed to define our `BayesFlow` neural architecture, that is, combine a summary network with an inference network."
   ]
  },
  {
   "cell_type": "markdown",
   "id": "traditional-colors",
   "metadata": {},
   "source": [
    "### Summary Network <a class=\"anchor\" id=\"summary_network\"></a>\n",
    "\n",
    "Since our simulator outputs 3D tensors of shape ``(batch_size, T = 14, 1)``, we need to reduce this three-dimensional tensor into a two-dimensional tensor of shape ``(batch_size, summary_dim)``. Our model outputs are actually so simple that we could have just removed the trailing dimension of the raw outputs and simply fed the data directly to the inference network.\n",
    "\n",
    "However, we demonstrate the use of a simple Gated Recurrent Unit (GRU) summary network. Any `keras` model can interact with `BayesFlow` by inherting from `SummaryNetwork` which accepts an addition `stage` argument indicating the mode the network is currently operating in (i.e., `training` vs. `inference`)."
   ]
  },
  {
   "cell_type": "code",
   "execution_count": 19,
   "id": "gross-screen",
   "metadata": {},
   "outputs": [],
   "source": [
    "class GRU(bf.networks.SummaryNetwork):\n",
    "    def __init__(self, **kwargs):\n",
    "        super().__init__(**kwargs)\n",
    "\n",
    "        self.gru = keras.layers.GRU(64, dropout=0.1)\n",
    "        self.summary_stats = keras.layers.Dense(8)\n",
    "        \n",
    "    def call(self, time_series, **kwargs):\n",
    "        \"\"\"Compresses time_series of shape (batch_size, T, 1) into summaries of shape (batch_size, 8).\"\"\"\n",
    "\n",
    "        summary = self.gru(time_series, training=kwargs.get(\"stage\") == \"training\")\n",
    "        summary = self.summary_stats(summary)\n",
    "        return summary"
   ]
  },
  {
   "cell_type": "code",
   "execution_count": 20,
   "id": "e6c6e2af",
   "metadata": {},
   "outputs": [],
   "source": [
    "summary_net = GRU()"
   ]
  },
  {
   "cell_type": "markdown",
   "id": "812336e1",
   "metadata": {},
   "source": [
    "### Inference Network"
   ]
  },
  {
   "cell_type": "markdown",
   "id": "fifteen-contract",
   "metadata": {},
   "source": [
    "As inference network we choose a flow matching architecture with some dropout to robustify the inference. Dropout is primarily important when learning from a (small) offline dataset. See below for details."
   ]
  },
  {
   "cell_type": "code",
   "execution_count": 21,
   "id": "dbdbdab0",
   "metadata": {},
   "outputs": [],
   "source": [
    "inference_net = bf.networks.CouplingFlow(\n",
    "    subnet_kwargs={\"residual\": True, \"dropout\": 0.1, \"widths\": (128, 128, 128)}\n",
    ")"
   ]
  },
  {
   "cell_type": "code",
   "execution_count": 22,
   "id": "8b4c43e7",
   "metadata": {},
   "outputs": [],
   "source": [
    "workflow = bf.BasicWorkflow(\n",
    "    simulator=simulator,\n",
    "    adapter=adapter,\n",
    "    inference_network=inference_net,\n",
    "    summary_network=summary_net,\n",
    "    inference_variables=[\"lambd\", \"mu\", \"D\", \"I0\", \"psi\"]\n",
    ")"
   ]
  },
  {
   "cell_type": "markdown",
   "id": "welsh-eclipse",
   "metadata": {},
   "source": [
    "## Training <a class=\"anchor\" id=\"training\"></a>\n",
    "\n",
    "Ready to train! Since our simulator is pretty fast, we can safely go with online training. Let's glean the time taken for a batch of $32$ simulations."
   ]
  },
  {
   "cell_type": "code",
   "execution_count": 23,
   "id": "546f6152",
   "metadata": {},
   "outputs": [
    {
     "name": "stdout",
     "output_type": "stream",
     "text": [
      "CPU times: user 4.79 ms, sys: 574 μs, total: 5.37 ms\n",
      "Wall time: 5.11 ms\n"
     ]
    }
   ],
   "source": [
    "%%time\n",
    "_ = workflow.simulate(32)"
   ]
  },
  {
   "cell_type": "markdown",
   "id": "b359ddd9",
   "metadata": {},
   "source": [
    "Not too bad! However, for the purpose of illustration, we will go with offline training using a fixed data set of simulations."
   ]
  },
  {
   "cell_type": "markdown",
   "id": "endless-teens",
   "metadata": {},
   "source": [
    "### Generating Offline Data <a class=\"anchor\" id=\"generating_offline_data\"></a>"
   ]
  },
  {
   "cell_type": "code",
   "execution_count": 24,
   "id": "dd328279",
   "metadata": {},
   "outputs": [],
   "source": [
    "training_data = workflow.simulate(5000)\n",
    "validation_data = workflow.simulate(300)"
   ]
  },
  {
   "cell_type": "markdown",
   "id": "c2feeb0c",
   "metadata": {},
   "source": [
    "We are now ready to train. If not provided, the default settings use $100$ epochs with a batch size of $32$."
   ]
  },
  {
   "cell_type": "code",
   "execution_count": null,
   "id": "regional-airfare",
   "metadata": {},
   "outputs": [
    {
     "name": "stdout",
     "output_type": "stream",
     "text": [
      "Epoch 1/300\n",
      "\u001b[1m79/79\u001b[0m \u001b[32m━━━━━━━━━━━━━━━━━━━━\u001b[0m\u001b[37m\u001b[0m \u001b[1m5s\u001b[0m 36ms/step - loss: 2.5531 - loss/inference_loss: 2.5531 - val_loss: -0.3906 - val_loss/inference_loss: -0.3906\n",
      "Epoch 2/300\n",
      "\u001b[1m79/79\u001b[0m \u001b[32m━━━━━━━━━━━━━━━━━━━━\u001b[0m\u001b[37m\u001b[0m \u001b[1m0s\u001b[0m 6ms/step - loss: -2.0562 - loss/inference_loss: -2.0562 - val_loss: -1.8728 - val_loss/inference_loss: -1.8728\n",
      "Epoch 3/300\n",
      "\u001b[1m79/79\u001b[0m \u001b[32m━━━━━━━━━━━━━━━━━━━━\u001b[0m\u001b[37m\u001b[0m \u001b[1m0s\u001b[0m 6ms/step - loss: -2.5561 - loss/inference_loss: -2.5561 - val_loss: -3.0432 - val_loss/inference_loss: -3.0432\n",
      "Epoch 4/300\n",
      "\u001b[1m79/79\u001b[0m \u001b[32m━━━━━━━━━━━━━━━━━━━━\u001b[0m\u001b[37m\u001b[0m \u001b[1m0s\u001b[0m 6ms/step - loss: -2.8517 - loss/inference_loss: -2.8517 - val_loss: -2.8174 - val_loss/inference_loss: -2.8174\n",
      "Epoch 5/300\n",
      "\u001b[1m79/79\u001b[0m \u001b[32m━━━━━━━━━━━━━━━━━━━━\u001b[0m\u001b[37m\u001b[0m \u001b[1m0s\u001b[0m 6ms/step - loss: -2.8977 - loss/inference_loss: -2.8977 - val_loss: -2.9406 - val_loss/inference_loss: -2.9406\n",
      "Epoch 6/300\n",
      "\u001b[1m79/79\u001b[0m \u001b[32m━━━━━━━━━━━━━━━━━━━━\u001b[0m\u001b[37m\u001b[0m \u001b[1m0s\u001b[0m 6ms/step - loss: -2.7563 - loss/inference_loss: -2.7563 - val_loss: -3.2228 - val_loss/inference_loss: -3.2228\n",
      "Epoch 7/300\n",
      "\u001b[1m79/79\u001b[0m \u001b[32m━━━━━━━━━━━━━━━━━━━━\u001b[0m\u001b[37m\u001b[0m \u001b[1m0s\u001b[0m 6ms/step - loss: -2.7914 - loss/inference_loss: -2.7914 - val_loss: -1.9627 - val_loss/inference_loss: -1.9627\n",
      "Epoch 8/300\n",
      "\u001b[1m79/79\u001b[0m \u001b[32m━━━━━━━━━━━━━━━━━━━━\u001b[0m\u001b[37m\u001b[0m \u001b[1m0s\u001b[0m 6ms/step - loss: -2.8824 - loss/inference_loss: -2.8824 - val_loss: -3.0298 - val_loss/inference_loss: -3.0298\n",
      "Epoch 9/300\n",
      "\u001b[1m79/79\u001b[0m \u001b[32m━━━━━━━━━━━━━━━━━━━━\u001b[0m\u001b[37m\u001b[0m \u001b[1m0s\u001b[0m 6ms/step - loss: -2.8764 - loss/inference_loss: -2.8764 - val_loss: -3.3240 - val_loss/inference_loss: -3.3240\n",
      "Epoch 10/300\n",
      "\u001b[1m79/79\u001b[0m \u001b[32m━━━━━━━━━━━━━━━━━━━━\u001b[0m\u001b[37m\u001b[0m \u001b[1m0s\u001b[0m 6ms/step - loss: -3.0118 - loss/inference_loss: -3.0118 - val_loss: -2.6283 - val_loss/inference_loss: -2.6283\n",
      "Epoch 11/300\n",
      "\u001b[1m79/79\u001b[0m \u001b[32m━━━━━━━━━━━━━━━━━━━━\u001b[0m\u001b[37m\u001b[0m \u001b[1m0s\u001b[0m 6ms/step - loss: -2.9128 - loss/inference_loss: -2.9128 - val_loss: -2.7869 - val_loss/inference_loss: -2.7869\n",
      "Epoch 12/300\n",
      "\u001b[1m79/79\u001b[0m \u001b[32m━━━━━━━━━━━━━━━━━━━━\u001b[0m\u001b[37m\u001b[0m \u001b[1m0s\u001b[0m 6ms/step - loss: -2.9950 - loss/inference_loss: -2.9950 - val_loss: -2.7895 - val_loss/inference_loss: -2.7895\n",
      "Epoch 13/300\n",
      "\u001b[1m79/79\u001b[0m \u001b[32m━━━━━━━━━━━━━━━━━━━━\u001b[0m\u001b[37m\u001b[0m \u001b[1m0s\u001b[0m 6ms/step - loss: -3.0348 - loss/inference_loss: -3.0348 - val_loss: -3.6223 - val_loss/inference_loss: -3.6223\n",
      "Epoch 14/300\n",
      "\u001b[1m79/79\u001b[0m \u001b[32m━━━━━━━━━━━━━━━━━━━━\u001b[0m\u001b[37m\u001b[0m \u001b[1m0s\u001b[0m 6ms/step - loss: -3.0897 - loss/inference_loss: -3.0897 - val_loss: -3.1302 - val_loss/inference_loss: -3.1302\n",
      "Epoch 15/300\n",
      "\u001b[1m79/79\u001b[0m \u001b[32m━━━━━━━━━━━━━━━━━━━━\u001b[0m\u001b[37m\u001b[0m \u001b[1m0s\u001b[0m 6ms/step - loss: -3.1331 - loss/inference_loss: -3.1331 - val_loss: -2.4433 - val_loss/inference_loss: -2.4433\n",
      "Epoch 16/300\n",
      "\u001b[1m79/79\u001b[0m \u001b[32m━━━━━━━━━━━━━━━━━━━━\u001b[0m\u001b[37m\u001b[0m \u001b[1m1s\u001b[0m 6ms/step - loss: -3.2182 - loss/inference_loss: -3.2182 - val_loss: -3.0852 - val_loss/inference_loss: -3.0852\n",
      "Epoch 17/300\n",
      "\u001b[1m79/79\u001b[0m \u001b[32m━━━━━━━━━━━━━━━━━━━━\u001b[0m\u001b[37m\u001b[0m \u001b[1m0s\u001b[0m 6ms/step - loss: -3.4051 - loss/inference_loss: -3.4051 - val_loss: -3.5660 - val_loss/inference_loss: -3.5660\n",
      "Epoch 18/300\n",
      "\u001b[1m79/79\u001b[0m \u001b[32m━━━━━━━━━━━━━━━━━━━━\u001b[0m\u001b[37m\u001b[0m \u001b[1m1s\u001b[0m 6ms/step - loss: -3.3464 - loss/inference_loss: -3.3464 - val_loss: -3.1822 - val_loss/inference_loss: -3.1822\n",
      "Epoch 19/300\n",
      "\u001b[1m79/79\u001b[0m \u001b[32m━━━━━━━━━━━━━━━━━━━━\u001b[0m\u001b[37m\u001b[0m \u001b[1m0s\u001b[0m 6ms/step - loss: -3.2502 - loss/inference_loss: -3.2502 - val_loss: -3.2908 - val_loss/inference_loss: -3.2908\n",
      "Epoch 20/300\n",
      "\u001b[1m79/79\u001b[0m \u001b[32m━━━━━━━━━━━━━━━━━━━━\u001b[0m\u001b[37m\u001b[0m \u001b[1m0s\u001b[0m 6ms/step - loss: -3.3290 - loss/inference_loss: -3.3290 - val_loss: -3.0506 - val_loss/inference_loss: -3.0506\n",
      "Epoch 21/300\n",
      "\u001b[1m79/79\u001b[0m \u001b[32m━━━━━━━━━━━━━━━━━━━━\u001b[0m\u001b[37m\u001b[0m \u001b[1m0s\u001b[0m 6ms/step - loss: -3.3385 - loss/inference_loss: -3.3385 - val_loss: -3.8582 - val_loss/inference_loss: -3.8582\n",
      "Epoch 22/300\n",
      "\u001b[1m79/79\u001b[0m \u001b[32m━━━━━━━━━━━━━━━━━━━━\u001b[0m\u001b[37m\u001b[0m \u001b[1m0s\u001b[0m 6ms/step - loss: -2.9794 - loss/inference_loss: -2.9794 - val_loss: -2.8534 - val_loss/inference_loss: -2.8534\n",
      "Epoch 23/300\n",
      "\u001b[1m79/79\u001b[0m \u001b[32m━━━━━━━━━━━━━━━━━━━━\u001b[0m\u001b[37m\u001b[0m \u001b[1m0s\u001b[0m 6ms/step - loss: -3.1077 - loss/inference_loss: -3.1077 - val_loss: -3.0692 - val_loss/inference_loss: -3.0692\n",
      "Epoch 24/300\n",
      "\u001b[1m79/79\u001b[0m \u001b[32m━━━━━━━━━━━━━━━━━━━━\u001b[0m\u001b[37m\u001b[0m \u001b[1m0s\u001b[0m 6ms/step - loss: -3.4165 - loss/inference_loss: -3.4165 - val_loss: -3.4301 - val_loss/inference_loss: -3.4301\n",
      "Epoch 25/300\n",
      "\u001b[1m79/79\u001b[0m \u001b[32m━━━━━━━━━━━━━━━━━━━━\u001b[0m\u001b[37m\u001b[0m \u001b[1m0s\u001b[0m 6ms/step - loss: -3.2900 - loss/inference_loss: -3.2900 - val_loss: -3.1961 - val_loss/inference_loss: -3.1961\n",
      "Epoch 26/300\n",
      "\u001b[1m79/79\u001b[0m \u001b[32m━━━━━━━━━━━━━━━━━━━━\u001b[0m\u001b[37m\u001b[0m \u001b[1m1s\u001b[0m 6ms/step - loss: -3.5751 - loss/inference_loss: -3.5751 - val_loss: -3.0668 - val_loss/inference_loss: -3.0668\n",
      "Epoch 27/300\n",
      "\u001b[1m79/79\u001b[0m \u001b[32m━━━━━━━━━━━━━━━━━━━━\u001b[0m\u001b[37m\u001b[0m \u001b[1m0s\u001b[0m 6ms/step - loss: -3.5435 - loss/inference_loss: -3.5435 - val_loss: -3.9203 - val_loss/inference_loss: -3.9203\n",
      "Epoch 28/300\n",
      "\u001b[1m79/79\u001b[0m \u001b[32m━━━━━━━━━━━━━━━━━━━━\u001b[0m\u001b[37m\u001b[0m \u001b[1m0s\u001b[0m 6ms/step - loss: -3.6201 - loss/inference_loss: -3.6201 - val_loss: -3.4658 - val_loss/inference_loss: -3.4658\n",
      "Epoch 29/300\n",
      "\u001b[1m79/79\u001b[0m \u001b[32m━━━━━━━━━━━━━━━━━━━━\u001b[0m\u001b[37m\u001b[0m \u001b[1m0s\u001b[0m 6ms/step - loss: -3.5914 - loss/inference_loss: -3.5914 - val_loss: -3.4542 - val_loss/inference_loss: -3.4542\n",
      "Epoch 30/300\n",
      "\u001b[1m79/79\u001b[0m \u001b[32m━━━━━━━━━━━━━━━━━━━━\u001b[0m\u001b[37m\u001b[0m \u001b[1m0s\u001b[0m 6ms/step - loss: -3.7011 - loss/inference_loss: -3.7011 - val_loss: -3.7330 - val_loss/inference_loss: -3.7330\n",
      "Epoch 31/300\n",
      "\u001b[1m79/79\u001b[0m \u001b[32m━━━━━━━━━━━━━━━━━━━━\u001b[0m\u001b[37m\u001b[0m \u001b[1m0s\u001b[0m 6ms/step - loss: -3.4554 - loss/inference_loss: -3.4554 - val_loss: -3.5343 - val_loss/inference_loss: -3.5343\n",
      "Epoch 32/300\n",
      "\u001b[1m79/79\u001b[0m \u001b[32m━━━━━━━━━━━━━━━━━━━━\u001b[0m\u001b[37m\u001b[0m \u001b[1m0s\u001b[0m 6ms/step - loss: -3.8494 - loss/inference_loss: -3.8494 - val_loss: -4.2008 - val_loss/inference_loss: -4.2008\n",
      "Epoch 33/300\n",
      "\u001b[1m79/79\u001b[0m \u001b[32m━━━━━━━━━━━━━━━━━━━━\u001b[0m\u001b[37m\u001b[0m \u001b[1m0s\u001b[0m 6ms/step - loss: -3.8396 - loss/inference_loss: -3.8396 - val_loss: -3.8531 - val_loss/inference_loss: -3.8531\n",
      "Epoch 34/300\n",
      "\u001b[1m79/79\u001b[0m \u001b[32m━━━━━━━━━━━━━━━━━━━━\u001b[0m\u001b[37m\u001b[0m \u001b[1m1s\u001b[0m 7ms/step - loss: -3.8048 - loss/inference_loss: -3.8048 - val_loss: -3.4396 - val_loss/inference_loss: -3.4396\n",
      "Epoch 35/300\n",
      "\u001b[1m79/79\u001b[0m \u001b[32m━━━━━━━━━━━━━━━━━━━━\u001b[0m\u001b[37m\u001b[0m \u001b[1m0s\u001b[0m 6ms/step - loss: -3.9050 - loss/inference_loss: -3.9050 - val_loss: -3.4339 - val_loss/inference_loss: -3.4339\n",
      "Epoch 36/300\n",
      "\u001b[1m79/79\u001b[0m \u001b[32m━━━━━━━━━━━━━━━━━━━━\u001b[0m\u001b[37m\u001b[0m \u001b[1m0s\u001b[0m 6ms/step - loss: -4.0386 - loss/inference_loss: -4.0386 - val_loss: -3.8508 - val_loss/inference_loss: -3.8508\n",
      "Epoch 37/300\n",
      "\u001b[1m79/79\u001b[0m \u001b[32m━━━━━━━━━━━━━━━━━━━━\u001b[0m\u001b[37m\u001b[0m \u001b[1m0s\u001b[0m 6ms/step - loss: -3.6783 - loss/inference_loss: -3.6783 - val_loss: -3.4381 - val_loss/inference_loss: -3.4381\n",
      "Epoch 38/300\n",
      "\u001b[1m79/79\u001b[0m \u001b[32m━━━━━━━━━━━━━━━━━━━━\u001b[0m\u001b[37m\u001b[0m \u001b[1m0s\u001b[0m 6ms/step - loss: -3.7113 - loss/inference_loss: -3.7113 - val_loss: -3.2074 - val_loss/inference_loss: -3.2074\n",
      "Epoch 39/300\n",
      "\u001b[1m79/79\u001b[0m \u001b[32m━━━━━━━━━━━━━━━━━━━━\u001b[0m\u001b[37m\u001b[0m \u001b[1m0s\u001b[0m 6ms/step - loss: -3.8614 - loss/inference_loss: -3.8614 - val_loss: -3.9134 - val_loss/inference_loss: -3.9134\n",
      "Epoch 40/300\n",
      "\u001b[1m79/79\u001b[0m \u001b[32m━━━━━━━━━━━━━━━━━━━━\u001b[0m\u001b[37m\u001b[0m \u001b[1m0s\u001b[0m 6ms/step - loss: -4.0887 - loss/inference_loss: -4.0887 - val_loss: -3.9001 - val_loss/inference_loss: -3.9001\n",
      "Epoch 41/300\n",
      "\u001b[1m79/79\u001b[0m \u001b[32m━━━━━━━━━━━━━━━━━━━━\u001b[0m\u001b[37m\u001b[0m \u001b[1m0s\u001b[0m 6ms/step - loss: -3.8765 - loss/inference_loss: -3.8765 - val_loss: -3.9385 - val_loss/inference_loss: -3.9385\n",
      "Epoch 42/300\n",
      "\u001b[1m79/79\u001b[0m \u001b[32m━━━━━━━━━━━━━━━━━━━━\u001b[0m\u001b[37m\u001b[0m \u001b[1m0s\u001b[0m 6ms/step - loss: -4.1186 - loss/inference_loss: -4.1186 - val_loss: -3.8955 - val_loss/inference_loss: -3.8955\n",
      "Epoch 43/300\n",
      "\u001b[1m79/79\u001b[0m \u001b[32m━━━━━━━━━━━━━━━━━━━━\u001b[0m\u001b[37m\u001b[0m \u001b[1m0s\u001b[0m 6ms/step - loss: -4.0108 - loss/inference_loss: -4.0108 - val_loss: -4.5758 - val_loss/inference_loss: -4.5758\n",
      "Epoch 44/300\n",
      "\u001b[1m79/79\u001b[0m \u001b[32m━━━━━━━━━━━━━━━━━━━━\u001b[0m\u001b[37m\u001b[0m \u001b[1m0s\u001b[0m 6ms/step - loss: -4.0099 - loss/inference_loss: -4.0099 - val_loss: -4.1036 - val_loss/inference_loss: -4.1036\n",
      "Epoch 45/300\n",
      "\u001b[1m79/79\u001b[0m \u001b[32m━━━━━━━━━━━━━━━━━━━━\u001b[0m\u001b[37m\u001b[0m \u001b[1m0s\u001b[0m 6ms/step - loss: -4.2357 - loss/inference_loss: -4.2357 - val_loss: -4.4953 - val_loss/inference_loss: -4.4953\n",
      "Epoch 46/300\n",
      "\u001b[1m79/79\u001b[0m \u001b[32m━━━━━━━━━━━━━━━━━━━━\u001b[0m\u001b[37m\u001b[0m \u001b[1m0s\u001b[0m 6ms/step - loss: -4.2844 - loss/inference_loss: -4.2844 - val_loss: -3.1974 - val_loss/inference_loss: -3.1974\n",
      "Epoch 47/300\n",
      "\u001b[1m79/79\u001b[0m \u001b[32m━━━━━━━━━━━━━━━━━━━━\u001b[0m\u001b[37m\u001b[0m \u001b[1m1s\u001b[0m 7ms/step - loss: -4.0507 - loss/inference_loss: -4.0507 - val_loss: -4.3681 - val_loss/inference_loss: -4.3681\n",
      "Epoch 48/300\n",
      "\u001b[1m79/79\u001b[0m \u001b[32m━━━━━━━━━━━━━━━━━━━━\u001b[0m\u001b[37m\u001b[0m \u001b[1m0s\u001b[0m 6ms/step - loss: -4.2557 - loss/inference_loss: -4.2557 - val_loss: -4.2150 - val_loss/inference_loss: -4.2150\n",
      "Epoch 49/300\n",
      "\u001b[1m79/79\u001b[0m \u001b[32m━━━━━━━━━━━━━━━━━━━━\u001b[0m\u001b[37m\u001b[0m \u001b[1m1s\u001b[0m 7ms/step - loss: -4.2366 - loss/inference_loss: -4.2366 - val_loss: -4.0352 - val_loss/inference_loss: -4.0352\n",
      "Epoch 50/300\n",
      "\u001b[1m79/79\u001b[0m \u001b[32m━━━━━━━━━━━━━━━━━━━━\u001b[0m\u001b[37m\u001b[0m \u001b[1m0s\u001b[0m 6ms/step - loss: -4.2548 - loss/inference_loss: -4.2548 - val_loss: -4.5328 - val_loss/inference_loss: -4.5328\n",
      "Epoch 51/300\n",
      "\u001b[1m79/79\u001b[0m \u001b[32m━━━━━━━━━━━━━━━━━━━━\u001b[0m\u001b[37m\u001b[0m \u001b[1m0s\u001b[0m 6ms/step - loss: -4.3518 - loss/inference_loss: -4.3518 - val_loss: -4.3215 - val_loss/inference_loss: -4.3215\n",
      "Epoch 52/300\n",
      "\u001b[1m79/79\u001b[0m \u001b[32m━━━━━━━━━━━━━━━━━━━━\u001b[0m\u001b[37m\u001b[0m \u001b[1m1s\u001b[0m 6ms/step - loss: -4.1109 - loss/inference_loss: -4.1109 - val_loss: -4.1160 - val_loss/inference_loss: -4.1160\n",
      "Epoch 53/300\n",
      "\u001b[1m79/79\u001b[0m \u001b[32m━━━━━━━━━━━━━━━━━━━━\u001b[0m\u001b[37m\u001b[0m \u001b[1m0s\u001b[0m 6ms/step - loss: -4.2647 - loss/inference_loss: -4.2647 - val_loss: -4.3841 - val_loss/inference_loss: -4.3841\n",
      "Epoch 54/300\n",
      "\u001b[1m79/79\u001b[0m \u001b[32m━━━━━━━━━━━━━━━━━━━━\u001b[0m\u001b[37m\u001b[0m \u001b[1m0s\u001b[0m 6ms/step - loss: -4.3571 - loss/inference_loss: -4.3571 - val_loss: -4.1630 - val_loss/inference_loss: -4.1630\n",
      "Epoch 55/300\n",
      "\u001b[1m79/79\u001b[0m \u001b[32m━━━━━━━━━━━━━━━━━━━━\u001b[0m\u001b[37m\u001b[0m \u001b[1m0s\u001b[0m 6ms/step - loss: -4.3761 - loss/inference_loss: -4.3761 - val_loss: -4.0612 - val_loss/inference_loss: -4.0612\n",
      "Epoch 56/300\n",
      "\u001b[1m79/79\u001b[0m \u001b[32m━━━━━━━━━━━━━━━━━━━━\u001b[0m\u001b[37m\u001b[0m \u001b[1m0s\u001b[0m 6ms/step - loss: -4.4602 - loss/inference_loss: -4.4602 - val_loss: -4.3704 - val_loss/inference_loss: -4.3704\n",
      "Epoch 57/300\n",
      "\u001b[1m79/79\u001b[0m \u001b[32m━━━━━━━━━━━━━━━━━━━━\u001b[0m\u001b[37m\u001b[0m \u001b[1m1s\u001b[0m 6ms/step - loss: -4.3413 - loss/inference_loss: -4.3413 - val_loss: -4.4499 - val_loss/inference_loss: -4.4499\n",
      "Epoch 58/300\n",
      "\u001b[1m79/79\u001b[0m \u001b[32m━━━━━━━━━━━━━━━━━━━━\u001b[0m\u001b[37m\u001b[0m \u001b[1m0s\u001b[0m 6ms/step - loss: -4.2684 - loss/inference_loss: -4.2684 - val_loss: -4.3559 - val_loss/inference_loss: -4.3559\n",
      "Epoch 59/300\n",
      "\u001b[1m79/79\u001b[0m \u001b[32m━━━━━━━━━━━━━━━━━━━━\u001b[0m\u001b[37m\u001b[0m \u001b[1m0s\u001b[0m 6ms/step - loss: -4.3979 - loss/inference_loss: -4.3979 - val_loss: -4.3347 - val_loss/inference_loss: -4.3347\n",
      "Epoch 60/300\n",
      "\u001b[1m79/79\u001b[0m \u001b[32m━━━━━━━━━━━━━━━━━━━━\u001b[0m\u001b[37m\u001b[0m \u001b[1m0s\u001b[0m 6ms/step - loss: -4.4743 - loss/inference_loss: -4.4743 - val_loss: -4.5121 - val_loss/inference_loss: -4.5121\n",
      "Epoch 61/300\n",
      "\u001b[1m79/79\u001b[0m \u001b[32m━━━━━━━━━━━━━━━━━━━━\u001b[0m\u001b[37m\u001b[0m \u001b[1m0s\u001b[0m 6ms/step - loss: -4.4936 - loss/inference_loss: -4.4936 - val_loss: -4.5144 - val_loss/inference_loss: -4.5144\n",
      "Epoch 62/300\n",
      "\u001b[1m79/79\u001b[0m \u001b[32m━━━━━━━━━━━━━━━━━━━━\u001b[0m\u001b[37m\u001b[0m \u001b[1m0s\u001b[0m 6ms/step - loss: -4.5711 - loss/inference_loss: -4.5711 - val_loss: -4.7783 - val_loss/inference_loss: -4.7783\n",
      "Epoch 63/300\n",
      "\u001b[1m79/79\u001b[0m \u001b[32m━━━━━━━━━━━━━━━━━━━━\u001b[0m\u001b[37m\u001b[0m \u001b[1m0s\u001b[0m 6ms/step - loss: -4.4770 - loss/inference_loss: -4.4770 - val_loss: -4.0968 - val_loss/inference_loss: -4.0968\n",
      "Epoch 64/300\n",
      "\u001b[1m79/79\u001b[0m \u001b[32m━━━━━━━━━━━━━━━━━━━━\u001b[0m\u001b[37m\u001b[0m \u001b[1m0s\u001b[0m 6ms/step - loss: -4.5481 - loss/inference_loss: -4.5481 - val_loss: -4.3363 - val_loss/inference_loss: -4.3363\n",
      "Epoch 65/300\n",
      "\u001b[1m79/79\u001b[0m \u001b[32m━━━━━━━━━━━━━━━━━━━━\u001b[0m\u001b[37m\u001b[0m \u001b[1m0s\u001b[0m 6ms/step - loss: -4.4884 - loss/inference_loss: -4.4884 - val_loss: -4.5281 - val_loss/inference_loss: -4.5281\n",
      "Epoch 66/300\n",
      "\u001b[1m79/79\u001b[0m \u001b[32m━━━━━━━━━━━━━━━━━━━━\u001b[0m\u001b[37m\u001b[0m \u001b[1m0s\u001b[0m 6ms/step - loss: -4.5017 - loss/inference_loss: -4.5017 - val_loss: -4.2938 - val_loss/inference_loss: -4.2938\n",
      "Epoch 67/300\n",
      "\u001b[1m79/79\u001b[0m \u001b[32m━━━━━━━━━━━━━━━━━━━━\u001b[0m\u001b[37m\u001b[0m \u001b[1m0s\u001b[0m 6ms/step - loss: -4.4979 - loss/inference_loss: -4.4979 - val_loss: -4.4374 - val_loss/inference_loss: -4.4374\n",
      "Epoch 68/300\n",
      "\u001b[1m79/79\u001b[0m \u001b[32m━━━━━━━━━━━━━━━━━━━━\u001b[0m\u001b[37m\u001b[0m \u001b[1m0s\u001b[0m 6ms/step - loss: -4.5255 - loss/inference_loss: -4.5255 - val_loss: -4.3917 - val_loss/inference_loss: -4.3917\n",
      "Epoch 69/300\n",
      "\u001b[1m79/79\u001b[0m \u001b[32m━━━━━━━━━━━━━━━━━━━━\u001b[0m\u001b[37m\u001b[0m \u001b[1m0s\u001b[0m 6ms/step - loss: -4.6016 - loss/inference_loss: -4.6016 - val_loss: -4.5042 - val_loss/inference_loss: -4.5042\n",
      "Epoch 70/300\n",
      "\u001b[1m79/79\u001b[0m \u001b[32m━━━━━━━━━━━━━━━━━━━━\u001b[0m\u001b[37m\u001b[0m \u001b[1m0s\u001b[0m 6ms/step - loss: -4.5722 - loss/inference_loss: -4.5722 - val_loss: -4.5348 - val_loss/inference_loss: -4.5348\n",
      "Epoch 71/300\n",
      "\u001b[1m79/79\u001b[0m \u001b[32m━━━━━━━━━━━━━━━━━━━━\u001b[0m\u001b[37m\u001b[0m \u001b[1m0s\u001b[0m 6ms/step - loss: -4.6351 - loss/inference_loss: -4.6351 - val_loss: -4.2527 - val_loss/inference_loss: -4.2527\n",
      "Epoch 72/300\n",
      "\u001b[1m79/79\u001b[0m \u001b[32m━━━━━━━━━━━━━━━━━━━━\u001b[0m\u001b[37m\u001b[0m \u001b[1m0s\u001b[0m 6ms/step - loss: -4.5341 - loss/inference_loss: -4.5341 - val_loss: -4.9177 - val_loss/inference_loss: -4.9177\n",
      "Epoch 73/300\n",
      "\u001b[1m79/79\u001b[0m \u001b[32m━━━━━━━━━━━━━━━━━━━━\u001b[0m\u001b[37m\u001b[0m \u001b[1m0s\u001b[0m 6ms/step - loss: -4.5988 - loss/inference_loss: -4.5988 - val_loss: -4.4220 - val_loss/inference_loss: -4.4220\n",
      "Epoch 74/300\n",
      "\u001b[1m79/79\u001b[0m \u001b[32m━━━━━━━━━━━━━━━━━━━━\u001b[0m\u001b[37m\u001b[0m \u001b[1m0s\u001b[0m 6ms/step - loss: -4.6787 - loss/inference_loss: -4.6787 - val_loss: -4.3558 - val_loss/inference_loss: -4.3558\n",
      "Epoch 75/300\n",
      "\u001b[1m79/79\u001b[0m \u001b[32m━━━━━━━━━━━━━━━━━━━━\u001b[0m\u001b[37m\u001b[0m \u001b[1m0s\u001b[0m 6ms/step - loss: -4.6518 - loss/inference_loss: -4.6518 - val_loss: -4.2514 - val_loss/inference_loss: -4.2514\n",
      "Epoch 76/300\n",
      "\u001b[1m79/79\u001b[0m \u001b[32m━━━━━━━━━━━━━━━━━━━━\u001b[0m\u001b[37m\u001b[0m \u001b[1m1s\u001b[0m 6ms/step - loss: -4.5645 - loss/inference_loss: -4.5645 - val_loss: -4.2296 - val_loss/inference_loss: -4.2296\n",
      "Epoch 77/300\n",
      "\u001b[1m79/79\u001b[0m \u001b[32m━━━━━━━━━━━━━━━━━━━━\u001b[0m\u001b[37m\u001b[0m \u001b[1m0s\u001b[0m 6ms/step - loss: -4.6456 - loss/inference_loss: -4.6456 - val_loss: -4.6252 - val_loss/inference_loss: -4.6252\n",
      "Epoch 78/300\n",
      "\u001b[1m79/79\u001b[0m \u001b[32m━━━━━━━━━━━━━━━━━━━━\u001b[0m\u001b[37m\u001b[0m \u001b[1m0s\u001b[0m 6ms/step - loss: -4.6519 - loss/inference_loss: -4.6519 - val_loss: -4.5839 - val_loss/inference_loss: -4.5839\n",
      "Epoch 79/300\n",
      "\u001b[1m79/79\u001b[0m \u001b[32m━━━━━━━━━━━━━━━━━━━━\u001b[0m\u001b[37m\u001b[0m \u001b[1m0s\u001b[0m 6ms/step - loss: -4.6782 - loss/inference_loss: -4.6782 - val_loss: -4.9393 - val_loss/inference_loss: -4.9393\n",
      "Epoch 80/300\n",
      "\u001b[1m79/79\u001b[0m \u001b[32m━━━━━━━━━━━━━━━━━━━━\u001b[0m\u001b[37m\u001b[0m \u001b[1m0s\u001b[0m 6ms/step - loss: -4.7229 - loss/inference_loss: -4.7229 - val_loss: -4.7028 - val_loss/inference_loss: -4.7028\n",
      "Epoch 81/300\n",
      "\u001b[1m79/79\u001b[0m \u001b[32m━━━━━━━━━━━━━━━━━━━━\u001b[0m\u001b[37m\u001b[0m \u001b[1m1s\u001b[0m 6ms/step - loss: -4.7026 - loss/inference_loss: -4.7026 - val_loss: -3.9407 - val_loss/inference_loss: -3.9407\n",
      "Epoch 82/300\n",
      "\u001b[1m79/79\u001b[0m \u001b[32m━━━━━━━━━━━━━━━━━━━━\u001b[0m\u001b[37m\u001b[0m \u001b[1m0s\u001b[0m 6ms/step - loss: -4.7247 - loss/inference_loss: -4.7247 - val_loss: -4.2338 - val_loss/inference_loss: -4.2338\n",
      "Epoch 83/300\n",
      "\u001b[1m79/79\u001b[0m \u001b[32m━━━━━━━━━━━━━━━━━━━━\u001b[0m\u001b[37m\u001b[0m \u001b[1m1s\u001b[0m 6ms/step - loss: -4.5767 - loss/inference_loss: -4.5767 - val_loss: -3.8959 - val_loss/inference_loss: -3.8959\n",
      "Epoch 84/300\n",
      "\u001b[1m79/79\u001b[0m \u001b[32m━━━━━━━━━━━━━━━━━━━━\u001b[0m\u001b[37m\u001b[0m \u001b[1m0s\u001b[0m 6ms/step - loss: -4.6499 - loss/inference_loss: -4.6499 - val_loss: -4.2496 - val_loss/inference_loss: -4.2496\n",
      "Epoch 85/300\n",
      "\u001b[1m79/79\u001b[0m \u001b[32m━━━━━━━━━━━━━━━━━━━━\u001b[0m\u001b[37m\u001b[0m \u001b[1m1s\u001b[0m 6ms/step - loss: -4.6668 - loss/inference_loss: -4.6668 - val_loss: -4.3125 - val_loss/inference_loss: -4.3125\n",
      "Epoch 86/300\n",
      "\u001b[1m79/79\u001b[0m \u001b[32m━━━━━━━━━━━━━━━━━━━━\u001b[0m\u001b[37m\u001b[0m \u001b[1m0s\u001b[0m 6ms/step - loss: -4.7292 - loss/inference_loss: -4.7292 - val_loss: -4.9538 - val_loss/inference_loss: -4.9538\n",
      "Epoch 87/300\n",
      "\u001b[1m79/79\u001b[0m \u001b[32m━━━━━━━━━━━━━━━━━━━━\u001b[0m\u001b[37m\u001b[0m \u001b[1m0s\u001b[0m 6ms/step - loss: -4.6984 - loss/inference_loss: -4.6984 - val_loss: -4.3080 - val_loss/inference_loss: -4.3080\n",
      "Epoch 88/300\n",
      "\u001b[1m 1/79\u001b[0m \u001b[37m━━━━━━━━━━━━━━━━━━━━\u001b[0m \u001b[1m0s\u001b[0m 8ms/step - loss: -4.5434 - loss/inference_loss: -4.5434"
     ]
    }
   ],
   "source": [
    "history = workflow.fit_offline(training_data, epochs=300, batch_size=64, validation_data=validation_data)"
   ]
  },
  {
   "cell_type": "markdown",
   "id": "practical-cardiff",
   "metadata": {},
   "source": [
    "### Inspecting the Loss <a class=\"anchor\" id=\"inspecting_the_loss\"></a>\n",
    "\n",
    "Following our online simulation-based training, we can quickly visualize the loss trajectory using the `plots.loss` function from the `diagnostics` module."
   ]
  },
  {
   "cell_type": "code",
   "execution_count": null,
   "id": "peaceful-conviction",
   "metadata": {},
   "outputs": [],
   "source": [
    "f = bf.diagnostics.plots.loss(history)"
   ]
  },
  {
   "cell_type": "markdown",
   "id": "optical-advice",
   "metadata": {},
   "source": [
    "Great, it seems that our approximator has converged! Before we get too excited and throw our networks at real data, we need to make sure that they meet our expectations <em>in silico</em>, that is, given the small world of simulations the networks have seen during training."
   ]
  },
  {
   "cell_type": "markdown",
   "id": "parliamentary-indiana",
   "metadata": {},
   "source": [
    "## Validation Phase\n",
    "\n",
    "When it comes to validating posterior inference, we can either deploy manual diagnostics from the `diagnostics` module, or use the automated functions from the `BasicWorkflow` object. First, we demonstrate manual validation. "
   ]
  },
  {
   "cell_type": "code",
   "execution_count": null,
   "id": "catholic-depth",
   "metadata": {},
   "outputs": [],
   "source": [
    "# Set the number of posterior draws you want to get\n",
    "num_samples = 1000\n",
    "\n",
    "# Simulate 300 scenarios and extract time series from dict\n",
    "test_sims = workflow.simulate(300)\n",
    "time_series = test_sims.pop(\"cases\")\n",
    "\n",
    "# Obtain num_samples posterior samples per scenario\n",
    "samples = workflow.sample(conditions={\"cases\": time_series}, num_samples=num_samples)"
   ]
  },
  {
   "cell_type": "markdown",
   "id": "binary-florida",
   "metadata": {},
   "source": [
    "### Simulation-Based Calibration - Rank Histograms\n",
    "\n",
    "As a further <strong>small world</strong> (i.e., before real data) sanity check, we can also test the calibration of the amortizer through simulation-based calibration (SBC). See the corresponding paper for more details (https://arxiv.org/pdf/1804.06788.pdf). Accordingly, we expect to observe approximately uniform rank statistic histograms. In the present case, this is indeed what we get:"
   ]
  },
  {
   "cell_type": "code",
   "execution_count": null,
   "id": "olive-nickname",
   "metadata": {},
   "outputs": [],
   "source": [
    "f = bf.diagnostics.plots.calibration_histogram(samples, test_sims)"
   ]
  },
  {
   "cell_type": "markdown",
   "id": "viral-space",
   "metadata": {},
   "source": [
    "### Simulation-Based Calibration - Rank ECDF\n",
    "\n",
    "For models with many parameters, inspecting many histograms can become unwieldly. Moreover, the `num_bins` hyperparameter for the construction of SBC rank histograms can be hard to choose. An alternative diagnostic approach for calibration is through empirical cumulative distribution functions (ECDF) of rank statistics. You can read more about this approach in the corresponding paper (https://arxiv.org/abs/2103.10522).\n",
    "\n",
    "In order to inspect the ECDFs of marginal distributions, we will simulate $300$ new pairs of simulated data and generating parameters $(\\boldsymbol{x}, \\boldsymbol{\\theta})$ and use the function `plots.calibration_ecdf` from the `diagnostics` module: "
   ]
  },
  {
   "cell_type": "code",
   "execution_count": null,
   "id": "further-dynamics",
   "metadata": {},
   "outputs": [],
   "source": [
    "f = bf.diagnostics.plots.calibration_ecdf(samples, test_sims, difference=True)"
   ]
  },
  {
   "cell_type": "markdown",
   "id": "rural-safety",
   "metadata": {},
   "source": [
    "### Inferential Adequacy (Global)\n",
    "\n",
    "Depending on the application, it might be interesting to see how well summaries of the full posterior (e.g., means, medians) recover the assumed true parameter values. We can test this <em>in silico</em> via the `plots.recovery` function in the `diagnostics` module. For instance, we can compare how well posterior means recover the true parameter (i.e., posterior z-score, https://betanalpha.github.io/assets/case_studies/principled_bayesian_workflow.html):"
   ]
  },
  {
   "cell_type": "code",
   "execution_count": null,
   "id": "educational-department",
   "metadata": {},
   "outputs": [],
   "source": [
    "f = bf.diagnostics.plots.recovery(samples, test_sims)"
   ]
  },
  {
   "cell_type": "markdown",
   "id": "e64f683b",
   "metadata": {},
   "source": [
    "Interestingly, it seems that the parameters $\\theta_1 = \\mu$ and $\\theta_2 = D$ have not been learned properly as they are estimated roughly the same for every simulated datset used during testing. For some models, this might indicate that the the network training had partially failed; and we would have to train longer or adjust the network architecture. For this specific model, however, the reason is different: From the provided observables, these parameters are actually not identified so cannot be learned consistently, no matter the kind of approximator we would use. "
   ]
  },
  {
   "cell_type": "markdown",
   "id": "fca49ff1",
   "metadata": {},
   "source": [
    "### Automatic Diagnostics\n",
    "\n",
    "The basic workflow object wraps together a bunch of useful functions that can be called automatically. For instance, we can easily obtain numerical error estimates for the big three: normalized roor mean square error (NRMSE), posterior contraction, and calibration, for $300$ new data sets:"
   ]
  },
  {
   "cell_type": "code",
   "execution_count": null,
   "id": "5c588463",
   "metadata": {},
   "outputs": [],
   "source": [
    "metrics = workflow.compute_diagnostics(test_data=300)\n",
    "metrics"
   ]
  },
  {
   "cell_type": "markdown",
   "id": "4407a54d",
   "metadata": {},
   "source": [
    "We can also obtain the full set of graphical diagnostics:"
   ]
  },
  {
   "cell_type": "code",
   "execution_count": null,
   "id": "6fac0759",
   "metadata": {},
   "outputs": [],
   "source": [
    "figures = workflow.plot_diagnostics(\n",
    "    test_data=300,\n",
    "    loss_kwargs={\"figsize\": (15, 3), \"label_fontsize\": 12},\n",
    "    recovery_kwargs={\"figsize\": (15, 3), \"label_fontsize\": 12},\n",
    "    calibration_ecdf_kwargs={\"figsize\": (15, 3), \"legend_fontsize\": 8, \"difference\": True, \"label_fontsize\": 12},\n",
    "    z_score_contraction_kwargs={\"figsize\": (15, 3), \"label_fontsize\": 12}    \n",
    ")"
   ]
  },
  {
   "cell_type": "markdown",
   "id": "occupational-professor",
   "metadata": {},
   "source": [
    "## Inference Phase <a class=\"anchor\" id=\"inference_phase\"></a>\n",
    "\n",
    "We can now move on to using real data. This is easy, and since we are using an adapter, the same transformations applied during training will be applied during the inference phase."
   ]
  },
  {
   "cell_type": "code",
   "execution_count": null,
   "id": "architectural-steering",
   "metadata": {},
   "outputs": [],
   "source": [
    "# Our real-data loader returns the time series as a 1D array\n",
    "obs_cases = load_data()\n",
    "\n",
    "# Note that we transform the 1D array into shape (1, T), indicating one time series\n",
    "samples = workflow.sample(conditions={\"cases\": obs_cases[None, :]}, num_samples=num_samples)\n",
    "\n",
    "# Convert into a nice format 2D data frame\n",
    "samples = workflow.samples_to_data_frame(samples)\n",
    "\n",
    "samples"
   ]
  },
  {
   "cell_type": "markdown",
   "id": "wicked-mouth",
   "metadata": {},
   "source": [
    "### Posterior Retrodictive Checks <a class=\"anchor\" id=\"posterior_retrodictive_checks\"></a>\n",
    "\n",
    "These are also called <em>posterior predictive checks</em>, but here we want to explicitly highlight the fact that we are not predicting future data but testing the <strong>generative performance</strong> or <strong>re-simulation performance</strong> of the model. In other words, we want to test how well the simulator can reproduce the actually observed data given the parameter posterior $p(\\theta \\mid x_{1:T})$. \n",
    "\n",
    "Here, we will create a custom function which plots the observed data and then overlays draws from the posterior predictive."
   ]
  },
  {
   "cell_type": "code",
   "execution_count": 26,
   "id": "aggregate-share",
   "metadata": {},
   "outputs": [],
   "source": [
    "def plot_ppc(samples, obs_cases, logscale=True, color=\"#132a70\", figsize=(12, 6), font_size=18):\n",
    "    \"\"\"\n",
    "    Helper function to perform some plotting of the posterior predictive.\n",
    "    \"\"\"\n",
    "    # Plot settings\n",
    "    plt.rcParams[\"font.size\"] = font_size\n",
    "    f, ax = plt.subplots(1, 1, figsize=figsize)\n",
    "    T = len(obs_cases)\n",
    "\n",
    "    # Re-simulations\n",
    "    sims = []\n",
    "    for i in range(samples.shape[0]):\n",
    "        # Note - simulator returns 2D arrays of shape (T, 1), so we remove trailing dim\n",
    "        sim_cases = stationary_SIR(*samples.values[i])\n",
    "        sims.append(sim_cases[\"cases\"])\n",
    "    sims = np.array(sims)\n",
    "\n",
    "    # Compute quantiles for each t = 1,...,T\n",
    "    qs_50 = np.quantile(sims, q=[0.25, 0.75], axis=0)\n",
    "    qs_90 = np.quantile(sims, q=[0.05, 0.95], axis=0)\n",
    "    qs_95 = np.quantile(sims, q=[0.025, 0.975], axis=0)\n",
    "\n",
    "    # Plot median predictions and observed data\n",
    "    ax.plot(np.median(sims, axis=0), label=\"Median predicted cases\", color=color)\n",
    "    ax.plot(obs_cases, marker=\"o\", label=\"Reported cases\", color=\"black\", linestyle=\"dashed\", alpha=0.8)\n",
    "\n",
    "    # Add compatibility intervals (also called credible intervals)\n",
    "    ax.fill_between(range(T), qs_50[0], qs_50[1], color=color, alpha=0.5, label=\"50% CI\")\n",
    "    ax.fill_between(range(T), qs_90[0], qs_90[1], color=color, alpha=0.3, label=\"90% CI\")\n",
    "    ax.fill_between(range(T), qs_95[0], qs_95[1], color=color, alpha=0.1, label=\"95% CI\")\n",
    "\n",
    "    # Grid and schmuck\n",
    "    ax.grid(color=\"grey\", linestyle=\"-\", linewidth=0.25, alpha=0.5)\n",
    "    ax.spines[\"right\"].set_visible(False)\n",
    "    ax.spines[\"top\"].set_visible(False)\n",
    "    ax.set_xlabel(\"Days since pandemic onset\")\n",
    "    ax.set_ylabel(\"Number of cases\")\n",
    "    ax.minorticks_off()\n",
    "    if logscale:\n",
    "        ax.set_yscale(\"log\")\n",
    "    ax.legend(fontsize=font_size)\n",
    "    return f"
   ]
  },
  {
   "cell_type": "markdown",
   "id": "romance-doctrine",
   "metadata": {},
   "source": [
    "We can now go on and plot the re-simulations:"
   ]
  },
  {
   "cell_type": "code",
   "execution_count": null,
   "id": "native-suspension",
   "metadata": {},
   "outputs": [],
   "source": [
    "f = plot_ppc(samples, obs_cases)"
   ]
  },
  {
   "cell_type": "markdown",
   "id": "african-rolling",
   "metadata": {},
   "source": [
    "That's it for this tutorial! You now know how to use the basic building blocks of `BayesFlow` to create amortized neural approximators. :)\n",
    "\n",
    "<!-- In the [next tutorial](./PriorSensitivity_Covid19_Initial.ipynb), we will go through a <strong>prior sensitivity analysis</strong> with `BayesFlow`, which is as easy to perform as it is important for ascertaining the robustness of our inferences. -->"
   ]
  }
 ],
 "metadata": {
  "kernelspec": {
   "display_name": "bf",
   "language": "python",
   "name": "python3"
  },
  "language_info": {
   "name": "python"
  },
  "toc": {
   "base_numbering": 1,
   "nav_menu": {},
   "number_sections": true,
   "sideBar": true,
   "skip_h1_title": true,
   "title_cell": "Table of Contents",
   "title_sidebar": "Contents",
   "toc_cell": true,
   "toc_position": {},
   "toc_section_display": true,
   "toc_window_display": true
  }
 },
 "nbformat": 4,
 "nbformat_minor": 5
}
